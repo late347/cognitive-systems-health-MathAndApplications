{
 "cells": [
  {
   "cell_type": "code",
   "execution_count": 76,
   "metadata": {},
   "outputs": [
    {
     "name": "stdout",
     "output_type": "stream",
     "text": [
      "0    5\n",
      "1    2\n",
      "2    7\n",
      "dtype: int64\n"
     ]
    }
   ],
   "source": [
    "import numpy as np\n",
    "import matplotlib.pyplot as plt\n",
    "import pandas as pd\n",
    "from pandas import read_csv\n",
    "data=pd.Series([5,2,7])\n",
    "print(data)\n",
    "\n",
    "#seems to work whne I used squarebrackets instead of curvybrackets\n",
    "#I probably misread the original instructions because the font was \n",
    "#so small in the pdf text"
   ]
  },
  {
   "cell_type": "markdown",
   "metadata": {},
   "source": [
    "\n",
    "#create list of dictionaries, each dict is a row\n",
    "#also possible to make list of lists, then dataframe\n",
    "#then make pandas dataframe from list"
   ]
  },
  {
   "cell_type": "code",
   "execution_count": 77,
   "metadata": {},
   "outputs": [
    {
     "name": "stdout",
     "output_type": "stream",
     "text": [
      "    weight  exercise  choleseterol  income  happiness  birthyear\n",
      "ID                                                              \n",
      "1       92         6           4.8    2060         49       1953\n",
      "2       70         6           5.1    2660         36       1955\n",
      "3       58         6           6.4    2530         49       1939\n",
      "4       99         2           6.5    1740         28       1942\n",
      "5       55         8           2.3    3520         77       1989\n",
      "6       76         4           5.7    3750         55       1937\n",
      "7       62         6           4.2    2720         43       1979\n",
      "8       92         6           6.9    3130         39       1905\n",
      "9       71         5           4.8    2100         54       1995\n",
      "10      70         6           4.8    3340         29       1966\n",
      "11      77         4           7.7    2430         53       1938\n",
      "12      79         4           5.7    2700         47       1993\n"
     ]
    }
   ],
   "source": [
    "d = [\n",
    "      [92,6,4.8,2060,49,1953]\n",
    "     ,[70,6,5.1,2660,36,1955]\n",
    "     ,[58,6,6.4,2530,49,1939]\n",
    "     ,[99,2,6.5,1740,28,1942]       \n",
    "     ,[55,8,2.3,3520,77,1989]    \n",
    "     ,[76,4,5.7,3750,55,1937]       \n",
    "     ,[62,6,4.2,2720,43,1979]      \n",
    "     ,[92,6,6.9,3130,39,1905]     \n",
    "     ,[71,5,4.8,2100,54,1995]\n",
    "     ,[70,6,4.8,3340,29,1966]\n",
    "     ,[77,4,7.7,2430,53,1938]\n",
    "     ,[79,4,5.7,2700,47,1993]\n",
    "]\n",
    "\n",
    "df=pd.DataFrame(d,\n",
    "                columns=['weight','exercise','choleseterol','income','happiness','birthyear'])\n",
    "\n",
    "df.index = np.arange(1, len(df) + 1)\n",
    "df.index.name = 'ID'\n",
    "print(df)\n"
   ]
  },
  {
   "cell_type": "code",
   "execution_count": 78,
   "metadata": {},
   "outputs": [
    {
     "data": {
      "text/html": [
       "<div>\n",
       "<style scoped>\n",
       "    .dataframe tbody tr th:only-of-type {\n",
       "        vertical-align: middle;\n",
       "    }\n",
       "\n",
       "    .dataframe tbody tr th {\n",
       "        vertical-align: top;\n",
       "    }\n",
       "\n",
       "    .dataframe thead th {\n",
       "        text-align: right;\n",
       "    }\n",
       "</style>\n",
       "<table border=\"1\" class=\"dataframe\">\n",
       "  <thead>\n",
       "    <tr style=\"text-align: right;\">\n",
       "      <th></th>\n",
       "      <th>weight</th>\n",
       "      <th>exercise</th>\n",
       "      <th>choleseterol</th>\n",
       "      <th>income</th>\n",
       "      <th>happiness</th>\n",
       "      <th>birthyear</th>\n",
       "    </tr>\n",
       "  </thead>\n",
       "  <tbody>\n",
       "    <tr>\n",
       "      <th>count</th>\n",
       "      <td>12.000000</td>\n",
       "      <td>12.000000</td>\n",
       "      <td>12.000000</td>\n",
       "      <td>12.000000</td>\n",
       "      <td>12.000000</td>\n",
       "      <td>12.000000</td>\n",
       "    </tr>\n",
       "    <tr>\n",
       "      <th>mean</th>\n",
       "      <td>75.083333</td>\n",
       "      <td>5.250000</td>\n",
       "      <td>5.408333</td>\n",
       "      <td>2723.333333</td>\n",
       "      <td>46.583333</td>\n",
       "      <td>1957.583333</td>\n",
       "    </tr>\n",
       "    <tr>\n",
       "      <th>std</th>\n",
       "      <td>13.813421</td>\n",
       "      <td>1.544786</td>\n",
       "      <td>1.419000</td>\n",
       "      <td>614.807188</td>\n",
       "      <td>13.283334</td>\n",
       "      <td>27.566311</td>\n",
       "    </tr>\n",
       "    <tr>\n",
       "      <th>min</th>\n",
       "      <td>55.000000</td>\n",
       "      <td>2.000000</td>\n",
       "      <td>2.300000</td>\n",
       "      <td>1740.000000</td>\n",
       "      <td>28.000000</td>\n",
       "      <td>1905.000000</td>\n",
       "    </tr>\n",
       "    <tr>\n",
       "      <th>25%</th>\n",
       "      <td>68.000000</td>\n",
       "      <td>4.000000</td>\n",
       "      <td>4.800000</td>\n",
       "      <td>2347.500000</td>\n",
       "      <td>38.250000</td>\n",
       "      <td>1938.750000</td>\n",
       "    </tr>\n",
       "    <tr>\n",
       "      <th>50%</th>\n",
       "      <td>73.500000</td>\n",
       "      <td>6.000000</td>\n",
       "      <td>5.400000</td>\n",
       "      <td>2680.000000</td>\n",
       "      <td>48.000000</td>\n",
       "      <td>1954.000000</td>\n",
       "    </tr>\n",
       "    <tr>\n",
       "      <th>75%</th>\n",
       "      <td>82.250000</td>\n",
       "      <td>6.000000</td>\n",
       "      <td>6.425000</td>\n",
       "      <td>3182.500000</td>\n",
       "      <td>53.250000</td>\n",
       "      <td>1981.500000</td>\n",
       "    </tr>\n",
       "    <tr>\n",
       "      <th>max</th>\n",
       "      <td>99.000000</td>\n",
       "      <td>8.000000</td>\n",
       "      <td>7.700000</td>\n",
       "      <td>3750.000000</td>\n",
       "      <td>77.000000</td>\n",
       "      <td>1995.000000</td>\n",
       "    </tr>\n",
       "  </tbody>\n",
       "</table>\n",
       "</div>"
      ],
      "text/plain": [
       "          weight   exercise  choleseterol       income  happiness    birthyear\n",
       "count  12.000000  12.000000     12.000000    12.000000  12.000000    12.000000\n",
       "mean   75.083333   5.250000      5.408333  2723.333333  46.583333  1957.583333\n",
       "std    13.813421   1.544786      1.419000   614.807188  13.283334    27.566311\n",
       "min    55.000000   2.000000      2.300000  1740.000000  28.000000  1905.000000\n",
       "25%    68.000000   4.000000      4.800000  2347.500000  38.250000  1938.750000\n",
       "50%    73.500000   6.000000      5.400000  2680.000000  48.000000  1954.000000\n",
       "75%    82.250000   6.000000      6.425000  3182.500000  53.250000  1981.500000\n",
       "max    99.000000   8.000000      7.700000  3750.000000  77.000000  1995.000000"
      ]
     },
     "execution_count": 78,
     "metadata": {},
     "output_type": "execute_result"
    }
   ],
   "source": [
    "df.describe() #describes all the basic required statistics like mean, std etc..."
   ]
  },
  {
   "cell_type": "code",
   "execution_count": 79,
   "metadata": {},
   "outputs": [
    {
     "data": {
      "text/plain": [
       "2723.3333333333335"
      ]
     },
     "execution_count": 79,
     "metadata": {},
     "output_type": "execute_result"
    }
   ],
   "source": [
    "#get average-wage into a variable\n",
    "avg = df[\"income\"].mean()\n",
    "avg"
   ]
  },
  {
   "cell_type": "code",
   "execution_count": 80,
   "metadata": {},
   "outputs": [
    {
     "name": "stdout",
     "output_type": "stream",
     "text": [
      "Person 1 lower than avg\n",
      "Person 2 lower than avg\n",
      "Person 3 lower than avg\n",
      "Person 4 lower than avg\n",
      "Person 5 higher than avg\n",
      "Person 6 higher than avg\n",
      "Person 7 lower than avg\n",
      "Person 8 higher than avg\n",
      "Person 9 lower than avg\n",
      "Person 10 higher than avg\n",
      "Person 11 lower than avg\n",
      "Person 12 lower than avg\n"
     ]
    }
   ],
   "source": [
    "#iterates the rows of the dataframe, only column id, and column income\n",
    "for ind,row in df.iterrows(): #iterate thru rows in dataframe\n",
    "    print(\"Person\" , ind , end='' ) #prints on the same row\n",
    "    print(\" \", end='') #prints on the same row\n",
    "    if row[\"income\"]>= avg: \n",
    "        print(\"higher than avg\") \n",
    "    else: \n",
    "        print(\"lower than avg\")\n",
    "\n"
   ]
  },
  {
   "cell_type": "markdown",
   "metadata": {},
   "source": [
    "# I checked that csv file in excel and with filter\n",
    "\n",
    "# problem is that some of the columns have datavalues,\n",
    "# which have multiple dot decimal separators inside that floating point \n",
    "# value\n",
    "# this, makes those floating point values not really readable\n",
    "# I saw this from looking at the csv file in excel\n",
    "# columns which have those extra dot decimals \n",
    "# bu, sc, pot, \n",
    "\n",
    "\n",
    "# also,\n",
    "\n",
    "# wbcc column has tab+? (instead of only ?)\n",
    "\n",
    "# rbcc column has tab+?\n",
    "\n",
    "# dm column has tab+yes and tab+no\n",
    "\n",
    "# cad column has tab+no\n",
    "\n",
    "# pcv column  had tab+?\n",
    "\n",
    "# class column has ckd+tab\n",
    "\n",
    "# I tried fixing those problems manually from excel, and afterwards I just keep working with that already downloaded kd.csv file and \n",
    "# read_csv from the folder/file itself (I dont know what the exact problem is with downloading)\n",
    "\n"
   ]
  },
  {
   "cell_type": "code",
   "execution_count": 81,
   "metadata": {
    "scrolled": true
   },
   "outputs": [],
   "source": [
    "url = r'https://oma.metropolia.fi/delegate/download_workspace_attachment/6300769/kd.csv'\n",
    "dataframe = pd.read_csv(\"kd.csv\",sep=\";\")\n",
    "#dataframe.tail()\n",
    "\n",
    "#filter the dataframe\n",
    "is_ckd = dataframe[\"class\"]==\"ckd\" #create filter to include ckd\n",
    "newframe = dataframe[is_ckd] #apply filter to dataframe (excel style, but done in pandas)\n",
    "#newframe[\"age\"].mean() #this causes the errors could not convert typeError \n",
    "\n"
   ]
  },
  {
   "cell_type": "markdown",
   "metadata": {},
   "source": [
    "# I couldn't figure out how to do the last part about basic statistics\n",
    "# I kept getting errors like \"could not convert to numeric\"\n",
    "# when calculating mean,std etc... probably because of the questionmark values\n",
    "# also, correlation matrix was little bit difficuult to do, I didn'ät manage to do it"
   ]
  },
  {
   "cell_type": "code",
   "execution_count": null,
   "metadata": {},
   "outputs": [],
   "source": []
  }
 ],
 "metadata": {
  "kernelspec": {
   "display_name": "Python 3",
   "language": "python",
   "name": "python3"
  },
  "language_info": {
   "codemirror_mode": {
    "name": "ipython",
    "version": 3
   },
   "file_extension": ".py",
   "mimetype": "text/x-python",
   "name": "python",
   "nbconvert_exporter": "python",
   "pygments_lexer": "ipython3",
   "version": "3.6.8"
  }
 },
 "nbformat": 4,
 "nbformat_minor": 2
}
