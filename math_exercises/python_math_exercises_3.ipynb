{
 "cells": [
  {
   "cell_type": "code",
   "execution_count": 92,
   "metadata": {},
   "outputs": [
    {
     "data": {
      "text/plain": [
       "array([[ 620.],\n",
       "       [1315.],\n",
       "       [2120.],\n",
       "       [2600.],\n",
       "       [3110.],\n",
       "       [3535.],\n",
       "       [3935.],\n",
       "       [4465.],\n",
       "       [4530.],\n",
       "       [4570.],\n",
       "       [4600.],\n",
       "       [ 625.],\n",
       "       [1215.],\n",
       "       [2110.],\n",
       "       [2805.],\n",
       "       [3255.],\n",
       "       [4015.],\n",
       "       [4315.],\n",
       "       [4495.],\n",
       "       [4535.],\n",
       "       [4600.],\n",
       "       [4600.],\n",
       "       [ 590.],\n",
       "       [1305.],\n",
       "       [2140.],\n",
       "       [2890.],\n",
       "       [3920.],\n",
       "       [3920.],\n",
       "       [4515.],\n",
       "       [4520.],\n",
       "       [4525.],\n",
       "       [4565.],\n",
       "       [4566.],\n",
       "       [ 590.],\n",
       "       [1205.],\n",
       "       [1915.],\n",
       "       [2140.],\n",
       "       [2710.],\n",
       "       [3020.],\n",
       "       [3030.],\n",
       "       [3040.],\n",
       "       [3180.],\n",
       "       [3257.],\n",
       "       [3214.]])"
      ]
     },
     "execution_count": 92,
     "metadata": {},
     "output_type": "execute_result"
    }
   ],
   "source": [
    "%matplotlib inline\n",
    "\n",
    "import matplotlib\n",
    "import numpy as np\n",
    "import matplotlib.pyplot as plt\n",
    "import time\n",
    "import warnings\n",
    "import pandas as pd\n",
    "from scipy import linalg as lalg\n",
    "\n",
    "data=np.loadtxt('fish.txt', skiprows=37)\n",
    "X=data[:,1:3]\n",
    "y=data[:,3:]\n",
    "y\n",
    "\n"
   ]
  },
  {
   "cell_type": "code",
   "execution_count": 93,
   "metadata": {},
   "outputs": [
    {
     "data": {
      "text/plain": [
       "array([[  1.,  14.,  25.],\n",
       "       [  1.,  28.,  25.],\n",
       "       [  1.,  41.,  25.],\n",
       "       [  1.,  55.,  25.],\n",
       "       [  1.,  69.,  25.],\n",
       "       [  1.,  83.,  25.],\n",
       "       [  1.,  97.,  25.],\n",
       "       [  1., 111.,  25.],\n",
       "       [  1., 125.,  25.],\n",
       "       [  1., 139.,  25.],\n",
       "       [  1., 153.,  25.],\n",
       "       [  1.,  14.,  27.],\n",
       "       [  1.,  28.,  27.],\n",
       "       [  1.,  41.,  27.],\n",
       "       [  1.,  55.,  27.],\n",
       "       [  1.,  69.,  27.],\n",
       "       [  1.,  83.,  27.],\n",
       "       [  1.,  97.,  27.],\n",
       "       [  1., 111.,  27.],\n",
       "       [  1., 125.,  27.],\n",
       "       [  1., 139.,  27.],\n",
       "       [  1., 153.,  27.],\n",
       "       [  1.,  14.,  29.],\n",
       "       [  1.,  28.,  29.],\n",
       "       [  1.,  41.,  29.],\n",
       "       [  1.,  55.,  29.],\n",
       "       [  1.,  69.,  29.],\n",
       "       [  1.,  83.,  29.],\n",
       "       [  1.,  97.,  29.],\n",
       "       [  1., 111.,  29.],\n",
       "       [  1., 125.,  29.],\n",
       "       [  1., 139.,  29.],\n",
       "       [  1., 153.,  29.],\n",
       "       [  1.,  14.,  31.],\n",
       "       [  1.,  28.,  31.],\n",
       "       [  1.,  41.,  31.],\n",
       "       [  1.,  55.,  31.],\n",
       "       [  1.,  69.,  31.],\n",
       "       [  1.,  83.,  31.],\n",
       "       [  1.,  97.,  31.],\n",
       "       [  1., 111.,  31.],\n",
       "       [  1., 125.,  31.],\n",
       "       [  1., 139.,  31.],\n",
       "       [  1., 153.,  31.]])"
      ]
     },
     "execution_count": 93,
     "metadata": {},
     "output_type": "execute_result"
    }
   ],
   "source": [
    "ones = np.ones(44).reshape(44,1)\n",
    "X = np.concatenate( ( ones, X  ), axis=1)\n",
    "X"
   ]
  },
  {
   "cell_type": "code",
   "execution_count": 94,
   "metadata": {},
   "outputs": [
    {
     "data": {
      "text/plain": [
       "array([[3904.26601675],\n",
       "       [  26.24068177],\n",
       "       [-106.41363636]])"
      ]
     },
     "execution_count": 94,
     "metadata": {},
     "output_type": "execute_result"
    }
   ],
   "source": [
    "M = lalg.inv(X.T.dot(X)).dot(X.T).dot(y)\n",
    "M"
   ]
  },
  {
   "cell_type": "code",
   "execution_count": 95,
   "metadata": {},
   "outputs": [
    {
     "name": "stdout",
     "output_type": "stream",
     "text": [
      "44\n",
      "44\n",
      "mean absolute error was : 459.37296590474494\n"
     ]
    }
   ],
   "source": [
    "ff = X.dot(M)\n",
    "ff\n",
    "m0=len(ff)\n",
    "m1=len(y)\n",
    "\n",
    "print(m0)\n",
    "print(m1)\n",
    "#n is probably 44 because thats how many fish there are\n",
    "mae = np.sum( np.abs( ff - y ) ) / m0\n",
    "print(\"mean absolute error was : \" +str(mae))"
   ]
  },
  {
   "cell_type": "code",
   "execution_count": 96,
   "metadata": {},
   "outputs": [
    {
     "data": {
      "image/png": "[encoded data removed]",
      "text/plain": [
       "<Figure size 432x288 with 1 Axes>"
      ]
     },
     "metadata": {
      "needs_background": "light"
     },
     "output_type": "display_data"
    }
   ],
   "source": [
    "xx = np.linspace(1,44,44).reshape(44,1)\n",
    "plt.plot(xx,y,'o')\n",
    "plt.plot(xx,ff)\n",
    "plt.xlabel(\"Fish_ID (which fish it was)\")\n",
    "plt.ylabel(\"size of Fish\")\n",
    "plt.show()"
   ]
  }
 ],
 "metadata": {
  "kernelspec": {
   "display_name": "Python 3",
   "language": "python",
   "name": "python3"
  },
  "language_info": {
   "codemirror_mode": {
    "name": "ipython",
    "version": 3
   },
   "file_extension": ".py",
   "mimetype": "text/x-python",
   "name": "python",
   "nbconvert_exporter": "python",
   "pygments_lexer": "ipython3",
   "version": "3.6.8"
  }
 },
 "nbformat": 4,
 "nbformat_minor": 2
}
