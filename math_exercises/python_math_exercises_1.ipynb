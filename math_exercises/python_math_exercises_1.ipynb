{
 "cells": [
  {
   "cell_type": "markdown",
   "metadata": {},
   "source": [
    "## Cognitive Systems Math course\n",
    "\n",
    "## Math Python/numpy exercises about matrices\n",
    "\n",
    "### Lauri Solin"
   ]
  },
  {
   "cell_type": "code",
   "execution_count": 49,
   "metadata": {},
   "outputs": [],
   "source": [
    "%matplotlib inline\n",
    "\n",
    "import matplotlib\n",
    "import numpy as np\n",
    "import matplotlib.pyplot as plt\n",
    "import time\n",
    "import warnings\n",
    "import pandas as pd"
   ]
  },
  {
   "cell_type": "markdown",
   "metadata": {},
   "source": [
    "## exercise 1 (basic matrix calculations)"
   ]
  },
  {
   "cell_type": "code",
   "execution_count": 50,
   "metadata": {},
   "outputs": [
    {
     "name": "stdout",
     "output_type": "stream",
     "text": [
      "[[27]]\n",
      "\n",
      "\n",
      "[[15 30]\n",
      " [ 6 12]]\n",
      "\n",
      "\n",
      "c)dimensions don't agree \n",
      "\n",
      "[[16]\n",
      " [42]]\n",
      "\n",
      "\n",
      "[[22 38]]\n",
      "\n",
      "\n",
      "[[316]]\n"
     ]
    }
   ],
   "source": [
    "w = np.array([[3,6],])\n",
    "x = np.array([[5],[2]])\n",
    "y = np.array([[1,2],[3,5]])\n",
    "z = np.array([[4],[6]])\n",
    "\n",
    "\n",
    "#a\n",
    "print(np.dot(w,x))\n",
    "\n",
    "print(\"\\n\")\n",
    "\n",
    "#b\n",
    "print(np.dot(x,w))\n",
    "\n",
    "print(\"\\n\")\n",
    "\n",
    "#c = np.dot(x,w.T) cannot compute C, dimensions dont agree\n",
    "print(\"c)dimensions don't agree \\n\")\n",
    "\n",
    "#d\n",
    "print(np.dot(y,z))\n",
    "\n",
    "print(\"\\n\")\n",
    "\n",
    "#e\n",
    "print(np.dot(z.T, y))\n",
    "\n",
    "print(\"\\n\")\n",
    "\n",
    "#f \n",
    "temp = np.dot(z.T, y)\n",
    "f = temp.dot(z)\n",
    "print(f)"
   ]
  },
  {
   "cell_type": "markdown",
   "metadata": {},
   "source": [
    "## exercise 2 (calculate matrix calculations)\n"
   ]
  },
  {
   "cell_type": "code",
   "execution_count": 51,
   "metadata": {},
   "outputs": [
    {
     "name": "stdout",
     "output_type": "stream",
     "text": [
      "a) dimensions dont agree \n",
      "\n",
      "[[ 0  0]\n",
      " [ 0 10]\n",
      " [18  0]]\n",
      "\n",
      "\n",
      "[[18  4]\n",
      " [ 0 10]]\n",
      "\n",
      "\n",
      "[[ 0  0  6]\n",
      " [ 8 10  0]\n",
      " [ 0  0 18]]\n",
      "\n",
      "\n",
      "[[10  0]\n",
      " [ 0 20]\n",
      " [30  0]]\n",
      "\n",
      "\n",
      "f) scalar plus matrix is undefined!\n"
     ]
    }
   ],
   "source": [
    "A=np.array([[1,0],[0,2],[3,0]])\n",
    "B=np.array([[0,4],[0,5],[6,0]])\n",
    "\n",
    "#a`Dimensions dont agree \n",
    "#print(A.dot(B))\n",
    "print(\"a) dimensions dont agree \\n\")\n",
    "\n",
    "#b\n",
    "print(A*B)\n",
    "\n",
    "print(\"\\n\")\n",
    "\n",
    "#c\n",
    "print(np.dot(A.T,B))\n",
    "\n",
    "print(\"\\n\")\n",
    "\n",
    "#d\n",
    "print(np.dot(A,B.T))\n",
    "\n",
    "print(\"\\n\")\n",
    "\n",
    "#e\n",
    "print(10*A)\n",
    "\n",
    "print(\"\\n\")\n",
    "\n",
    "#f\n",
    "print(\"f) scalar plus matrix is undefined!\")\n",
    "\n"
   ]
  },
  {
   "cell_type": "markdown",
   "metadata": {},
   "source": [
    "## exercise 3 (plot function)\n",
    "\n"
   ]
  },
  {
   "cell_type": "code",
   "execution_count": 52,
   "metadata": {
    "scrolled": true
   },
   "outputs": [
    {
     "data": {
      "text/plain": [
       "<function matplotlib.pyplot.show(*args, **kw)>"
      ]
     },
     "execution_count": 52,
     "metadata": {},
     "output_type": "execute_result"
    },
    {
     "data": {
      "image/png": "[encoded data removed]",
      "text/plain": [
       "<Figure size 432x288 with 1 Axes>"
      ]
     },
     "metadata": {
      "needs_background": "light"
     },
     "output_type": "display_data"
    }
   ],
   "source": [
    "x = np.arange(-2, 2, 0.1)\n",
    "g = 1/(1+np.exp(x))\n",
    "plt.title(\"g(x)= 1/(1+e^x)\")\n",
    "plt.plot(x,g)\n",
    "plt.grid()\n",
    "plt.show"
   ]
  },
  {
   "cell_type": "markdown",
   "metadata": {},
   "source": [
    "## exercise 4 (plot function)"
   ]
  },
  {
   "cell_type": "code",
   "execution_count": 53,
   "metadata": {
    "scrolled": true
   },
   "outputs": [
    {
     "data": {
      "text/plain": [
       "<function matplotlib.pyplot.show(*args, **kw)>"
      ]
     },
     "execution_count": 53,
     "metadata": {},
     "output_type": "execute_result"
    },
    {
     "data": {
      "image/png": "[encoded data removed]",
      "text/plain": [
       "<Figure size 432x288 with 1 Axes>"
      ]
     },
     "metadata": {
      "needs_background": "light"
     },
     "output_type": "display_data"
    }
   ],
   "source": [
    "x1 = np.arange(0, 5, 0.001)\n",
    "fx1 = ( x1**3 + abs(x1) + np.log(x1 + 0.00000001 ) ) / ( np.sqrt(100 + x1) + 0.01 * x1 * np.exp(x1) )\n",
    "plt.title(\"f(x)= (x^3 + abs(x) + ln(x+10^(-8)) ) / (sqrt(100+x) + 0.01*x*e^x)\")\n",
    "plt.plot(x1,fx1)\n",
    "plt.grid()\n",
    "plt.show"
   ]
  },
  {
   "cell_type": "markdown",
   "metadata": {},
   "source": [
    "## exercise 5 (solve eq in np and python with invMatrix)"
   ]
  },
  {
   "cell_type": "code",
   "execution_count": 54,
   "metadata": {},
   "outputs": [
    {
     "name": "stdout",
     "output_type": "stream",
     "text": [
      "[[2.]\n",
      " [3.]\n",
      " [1.]]\n"
     ]
    }
   ],
   "source": [
    "A_1 = np.array([[1,2,4],[-3,1,5],[2,-4,1]])\n",
    "B_1 = np.array([[12],[2],[-7]])\n",
    "\n",
    "#solution\n",
    "# X_1 = A^(-1) B\n",
    "\n",
    "X_1 = np.linalg.inv(A_1).dot(B_1)\n",
    "print(X_1)"
   ]
  },
  {
   "cell_type": "markdown",
   "metadata": {},
   "source": [
    "## exercise 6 (indexing matrices in np and python)"
   ]
  },
  {
   "cell_type": "code",
   "execution_count": 55,
   "metadata": {},
   "outputs": [
    {
     "name": "stdout",
     "output_type": "stream",
     "text": [
      "[[ 2  5 -1  3  6]\n",
      " [ 1  0  0 -2  0]\n",
      " [ 4  1 -2  0  7]\n",
      " [ 0  3  5  1 -1]]\n",
      "\n",
      "\n",
      "2\n",
      "\n",
      "\n",
      "-2\n",
      "\n",
      "\n",
      "1\n",
      "\n",
      "\n",
      "[ 4  1 -2  0  7]\n",
      "\n",
      "\n",
      "[[ 2  5 -1]\n",
      " [ 1  0  0]\n",
      " [ 4  1 -2]\n",
      " [ 0  3  5]]\n"
     ]
    }
   ],
   "source": [
    "## using python choose from the matrix with indeces\n",
    "\n",
    "## remember that python first index is A_2[0,0]\n",
    "\n",
    "## first one is row index, second one is column index\n",
    "\n",
    "\n",
    "A_2 = np.array([ [2,5,-1,3,6],[1,0,0,-2,0],[4,1,-2,0,7],[0,3,5,1,-1]  ])\n",
    "print(A_2)\n",
    "\n",
    "print(\"\\n\")\n",
    "\n",
    "# A(1,1)\n",
    "print(A_2[0,0])\n",
    "\n",
    "print(\"\\n\")\n",
    "\n",
    "# A(2,4)\n",
    "print(A_2[1,3])\n",
    "\n",
    "print(\"\\n\")\n",
    "\n",
    "# A(4,4)\n",
    "print(A_2[3,3])\n",
    "\n",
    "print(\"\\n\")\n",
    "\n",
    "# third row (in python row_2)\n",
    "print(A_2[2,:])\n",
    "\n",
    "print(\"\\n\")\n",
    "\n",
    "# first three columns (until column_2)\n",
    "print(A_2[:,[0,1,2]])"
   ]
  },
  {
   "cell_type": "markdown",
   "metadata": {},
   "source": [
    "## exercise 7 (concatenate matrices)"
   ]
  },
  {
   "cell_type": "code",
   "execution_count": 56,
   "metadata": {},
   "outputs": [
    {
     "name": "stdout",
     "output_type": "stream",
     "text": [
      "[[1 0]\n",
      " [0 2]\n",
      " [3 0]]\n",
      "[[0 4]\n",
      " [0 5]\n",
      " [6 0]]\n",
      "\n",
      "\n",
      "[[1 0 0 4]\n",
      " [0 2 0 5]\n",
      " [3 0 6 0]]\n",
      "\n",
      "\n",
      "[[1 0]\n",
      " [0 2]\n",
      " [3 0]\n",
      " [0 4]\n",
      " [0 5]\n",
      " [6 0]]\n",
      "\n",
      "\n",
      "[[1]\n",
      " [0]\n",
      " [0]\n",
      " [4]\n",
      " [0]\n",
      " [2]\n",
      " [0]\n",
      " [5]\n",
      " [3]\n",
      " [0]\n",
      " [6]\n",
      " [0]]\n"
     ]
    }
   ],
   "source": [
    "print(A)\n",
    "print(B)\n",
    "print(\"\\n\")\n",
    "\n",
    "#concatenate  along the horizontal axis\n",
    "C = np.concatenate( (A,B), axis=1 )\n",
    "print(C)\n",
    "\n",
    "print(\"\\n\")\n",
    "\n",
    "#concatenate along the vertical axis\n",
    "D = np.concatenate( (A,B), axis=0 )\n",
    "print(D)\n",
    "\n",
    "print(\"\\n\")\n",
    "\n",
    "\n",
    "\n",
    "#reshape C as column vector (I don't know how to do this, I just transpose(!?))\n",
    "C=C.reshape(12,1)\n",
    "print(C)"
   ]
  },
  {
   "cell_type": "code",
   "execution_count": null,
   "metadata": {},
   "outputs": [],
   "source": []
  }
 ],
 "metadata": {
  "kernelspec": {
   "display_name": "Python 3",
   "language": "python",
   "name": "python3"
  },
  "language_info": {
   "codemirror_mode": {
    "name": "ipython",
    "version": 3
   },
   "file_extension": ".py",
   "mimetype": "text/x-python",
   "name": "python",
   "nbconvert_exporter": "python",
   "pygments_lexer": "ipython3",
   "version": "3.6.8"
  }
 },
 "nbformat": 4,
 "nbformat_minor": 2
}
